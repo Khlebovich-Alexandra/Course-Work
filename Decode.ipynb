{
 "cells": [
  {
   "cell_type": "code",
   "execution_count": 1,
   "metadata": {},
   "outputs": [],
   "source": [
    "import pandas as pd"
   ]
  },
  {
   "cell_type": "code",
   "execution_count": 2,
   "metadata": {},
   "outputs": [],
   "source": [
    "data_old = pd.read_excel('Data\\data_after_5_years.xlsx', sheet_name=0, header=1, index_col=1)\n",
    "data_new = pd.read_excel('Data\\data_after_5_years.xlsx', sheet_name=1, header=1, index_col=0)"
   ]
  },
  {
   "cell_type": "code",
   "execution_count": 3,
   "metadata": {},
   "outputs": [],
   "source": [
    "data_old.rename_axis('index', inplace=True)\n",
    "data_new.rename_axis('index', inplace=True)"
   ]
  },
  {
   "cell_type": "code",
   "execution_count": 4,
   "metadata": {},
   "outputs": [],
   "source": [
    "def decode(data, new=False):\n",
    "    diff_col = ['Наслед. по АГ', 'АГч/з 5лет'] if new else ['Наслед. по АГ(мать-1;отец-2;оба-3; нет-0)', 'АГ ст.']\n",
    "    data_decode = data[['пол', 'возр', 'ИМТ(до 30,5-0;более 30,6-1)',\n",
    "                        'ОТ.1', 'Физ акт(1,2-0);(3,4-1)', 'кур-ие(1,2-1);(3-0)',\n",
    "                        'Уп. Алк(1,2-0);(3,4-1)'] + diff_col].copy()\n",
    "    rename_dict = {'пол': 'gender',\n",
    "                   'возр': 'age',\n",
    "                   'АГ ст.': 'stage',\n",
    "                   'АГч/з 5лет': 'stage',\n",
    "                   'ИМТ(до 30,5-0;более 30,6-1)': 'bmi',\n",
    "                   'ОТ.1': 'ao', \n",
    "                   'Физ акт(1,2-0);(3,4-1)': 'activity',\n",
    "                   'кур-ие(1,2-1);(3-0)': 'smoking',\n",
    "                   'Уп. Алк(1,2-0);(3,4-1)': 'alcohol',\n",
    "                   'Наслед. по АГ(мать-1;отец-2;оба-3; нет-0)': 'male_heredity',\n",
    "                   'Наслед. по АГ': 'male_heredity'}\n",
    "    data_decode.rename(columns=rename_dict, inplace=True)\n",
    "    data_decode.gender = data_decode.gender.map(lambda x: 1 if x=='м' else 0)\n",
    "    data_decode.age = data_decode.age.map(lambda x: 1 if x>=45 else 0)\n",
    "    data_decode.stage = data_decode.stage.map(lambda x: 0 if x=='зд' else 1)\n",
    "    data_decode.male_heredity = data_decode.male_heredity.map(lambda x: 1 if x in [2, 3] else 0)\n",
    "    data_decode.fillna(0, inplace=True)\n",
    "    data_decode = data_decode.apply(lambda x: pd.to_numeric(x, downcast='integer'), axis=1)\n",
    "    #data_decode.smoking = pd.to_numeric(data_decode.smoking.fillna(0), downcast='integer')\n",
    "    #data_decode.activity = pd.to_numeric(data_decode.activity.fillna(0), downcast='integer')\n",
    "    #data_decode.alcohol = pd.to_numeric(data_decode.alcohol.fillna(0), downcast='integer')\n",
    "    data_decode.activity = data_decode.activity.map(lambda x: 0 if x==1 else 1)\n",
    "    \n",
    "    # data_decode['AGT_AGTR2'] = list(map(lambda x, y: 1 if x == 2 or \n",
    "    #                                    x == 3 and y == 3 else 0,\n",
    "    #                                    data_decode.AGT, data_decode.AGTR2))\n",
    "    # data_decode.drop(['AGT', 'AGTR2'], axis=1, inplace=True)\n",
    "    return data_decode"
   ]
  },
  {
   "cell_type": "code",
   "execution_count": 5,
   "metadata": {},
   "outputs": [],
   "source": [
    "decode(data_old).to_csv('Data\\data_decode_old.csv')"
   ]
  },
  {
   "cell_type": "code",
   "execution_count": 6,
   "metadata": {},
   "outputs": [],
   "source": [
    "decode(data_new, new=True).to_csv('Data\\data_decode_new.csv')"
   ]
  },
  {
   "cell_type": "code",
   "execution_count": null,
   "metadata": {},
   "outputs": [],
   "source": []
  }
 ],
 "metadata": {
  "kernelspec": {
   "display_name": "Python 3",
   "language": "python",
   "name": "python3"
  },
  "language_info": {
   "codemirror_mode": {
    "name": "ipython",
    "version": 3
   },
   "file_extension": ".py",
   "mimetype": "text/x-python",
   "name": "python",
   "nbconvert_exporter": "python",
   "pygments_lexer": "ipython3",
   "version": "3.7.7"
  }
 },
 "nbformat": 4,
 "nbformat_minor": 4
}
